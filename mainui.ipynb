{
 "cells": [
  {
   "cell_type": "markdown",
   "id": "46632cc5",
   "metadata": {},
   "source": [
    "### <font color='#ff0000'>运行下方代码块, 打开启动器</font>"
   ]
  },
  {
   "cell_type": "code",
   "execution_count": 2,
   "id": "7062bb40-2063-400d-b4b0-b11efb768551",
   "metadata": {},
   "outputs": [
    {
     "ename": "NameError",
     "evalue": "name 'tab' is not defined",
     "output_type": "error",
     "traceback": [
      "\u001b[0;31m---------------------------------------------------------------------------\u001b[0m",
      "\u001b[0;31mNameError\u001b[0m                                 Traceback (most recent call last)",
      "Cell \u001b[0;32mIn[2], line 2\u001b[0m\n\u001b[1;32m      1\u001b[0m \u001b[38;5;28;01mimport\u001b[39;00m \u001b[38;5;21;01mMain\u001b[39;00m\n\u001b[0;32m----> 2\u001b[0m Main\u001b[38;5;241m.\u001b[39mdisplay(\u001b[43mtab\u001b[49m)\n",
      "\u001b[0;31mNameError\u001b[0m: name 'tab' is not defined"
     ]
    }
   ],
   "source": [
    "import Main\n",
    "Main.display(tab)\n"
   ]
  },
  {
   "cell_type": "code",
   "execution_count": null,
   "id": "c92eaea6-7e14-4443-b051-b2f4ff9d2983",
   "metadata": {},
   "outputs": [],
   "source": []
  }
 ],
 "metadata": {
  "kernelspec": {
   "display_name": "Python 3 (ipykernel)",
   "language": "python",
   "name": "python3"
  },
  "language_info": {
   "codemirror_mode": {
    "name": "ipython",
    "version": 3
   },
   "file_extension": ".py",
   "mimetype": "text/x-python",
   "name": "python",
   "nbconvert_exporter": "python",
   "pygments_lexer": "ipython3",
   "version": "3.9.2"
  }
 },
 "nbformat": 4,
 "nbformat_minor": 5
}
