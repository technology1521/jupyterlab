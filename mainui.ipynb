{
 "cells": [
  {
   "cell_type": "markdown",
   "id": "46632cc5",
   "metadata": {},
   "source": [
    "### <font color='#ff0000'>运行下方代码块, 打开启动器</font>"
   ]
  },
  {
   "cell_type": "code",
   "execution_count": 1,
   "id": "7062bb40-2063-400d-b4b0-b11efb768551",
   "metadata": {},
   "outputs": [
    {
     "data": {
      "application/vnd.jupyter.widget-view+json": {
       "model_id": "38263bc2f81e44b69112089c5a3e5bdb",
       "version_major": 2,
       "version_minor": 0
      },
      "text/plain": [
       "Tab(children=(VBox(children=(Dropdown(description='CUDA版本:', options=(('11.5.0', 'cuda_11.5.0_495.29.05_linux.…"
      ]
     },
     "metadata": {},
     "output_type": "display_data"
    }
   ],
   "source": [
    "# 在main.ipynb中\n",
    "from main import launch_ui\n",
    "\n",
    "# 调用函数来启动UI\n",
    "launch_ui()\n"
   ]
  },
  {
   "cell_type": "code",
   "execution_count": null,
   "id": "ac67387b-1f1e-4a33-ae93-c6e7eda98534",
   "metadata": {},
   "outputs": [],
   "source": []
  }
 ],
 "metadata": {
  "kernelspec": {
   "display_name": "Python 3 (ipykernel)",
   "language": "python",
   "name": "python3"
  },
  "language_info": {
   "codemirror_mode": {
    "name": "ipython",
    "version": 3
   },
   "file_extension": ".py",
   "mimetype": "text/x-python",
   "name": "python",
   "nbconvert_exporter": "python",
   "pygments_lexer": "ipython3",
   "version": "3.9.2"
  }
 },
 "nbformat": 4,
 "nbformat_minor": 5
}
