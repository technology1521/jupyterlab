{
 "cells": [
  {
   "cell_type": "markdown",
   "id": "46632cc5",
   "metadata": {},
   "source": [
    "### <font color='#ff0000'>运行下方代码块, 打开启动器</font>"
   ]
  },
  {
   "cell_type": "code",
   "execution_count": 2,
   "id": "7062bb40-2063-400d-b4b0-b11efb768551",
   "metadata": {},
   "outputs": [
    {
     "ename": "NameError",
     "evalue": "name 'uiConfig' is not defined",
     "output_type": "error",
     "traceback": [
      "\u001b[0;31m---------------------------------------------------------------------------\u001b[0m",
      "\u001b[0;31mNameError\u001b[0m                                 Traceback (most recent call last)",
      "Cell \u001b[0;32mIn[2], line 6\u001b[0m\n\u001b[1;32m      3\u001b[0m \u001b[38;5;28;01mdef\u001b[39;00m \u001b[38;5;21mcmd_run\u001b[39m(command):\n\u001b[1;32m      4\u001b[0m     get_ipython()\u001b[38;5;241m.\u001b[39msystem(\u001b[38;5;124m'\u001b[39m\u001b[38;5;132;01m{command}\u001b[39;00m\u001b[38;5;124m'\u001b[39m)\n\u001b[0;32m----> 6\u001b[0m \u001b[43mMain\u001b[49m\u001b[38;5;241;43m.\u001b[39;49m\u001b[43mshow\u001b[49m\u001b[43m(\u001b[49m\u001b[43mcmd_run\u001b[49m\u001b[43m)\u001b[49m\n",
      "File \u001b[0;32m/opt/jupyterlab/jupyterlab/Main.py:95\u001b[0m, in \u001b[0;36mshow\u001b[0;34m(cmd_run)\u001b[0m\n\u001b[1;32m     94\u001b[0m \u001b[38;5;28;01mdef\u001b[39;00m \u001b[38;5;21mshow\u001b[39m(cmd_run):\n\u001b[0;32m---> 95\u001b[0m     \u001b[43mselect_ui\u001b[49m\u001b[43m(\u001b[49m\u001b[43mcmd_run\u001b[49m\u001b[43m)\u001b[49m\n",
      "File \u001b[0;32m/opt/jupyterlab/jupyterlab/Main.py:78\u001b[0m, in \u001b[0;36mselect_ui\u001b[0;34m(cmd_run)\u001b[0m\n\u001b[1;32m     76\u001b[0m     module_path \u001b[38;5;241m=\u001b[39m project_configs[project_config[\u001b[38;5;124m\"\u001b[39m\u001b[38;5;124mproject_name\u001b[39m\u001b[38;5;124m\"\u001b[39m]][\u001b[38;5;124m\"\u001b[39m\u001b[38;5;124mmodule\u001b[39m\u001b[38;5;124m\"\u001b[39m]\n\u001b[1;32m     77\u001b[0m     UiMain \u001b[38;5;241m=\u001b[39m importlib\u001b[38;5;241m.\u001b[39mimport_module(module_path)\n\u001b[0;32m---> 78\u001b[0m     \u001b[43mUiMain\u001b[49m\u001b[38;5;241;43m.\u001b[39;49m\u001b[43mshow\u001b[49m\u001b[43m(\u001b[49m\u001b[43mdata\u001b[49m\u001b[43m,\u001b[49m\u001b[43m \u001b[49m\u001b[43mcmd_run\u001b[49m\u001b[43m)\u001b[49m\n\u001b[1;32m     79\u001b[0m \u001b[38;5;28;01melse\u001b[39;00m:\n\u001b[1;32m     80\u001b[0m     \u001b[38;5;28;01mfor\u001b[39;00m project_name, project_info \u001b[38;5;129;01min\u001b[39;00m project_configs\u001b[38;5;241m.\u001b[39mitems():\n",
      "File \u001b[0;32m/opt/jupyterlab/jupyterlab/xl_jupyter_controller/WebUiMain.py:25\u001b[0m, in \u001b[0;36mshow\u001b[0;34m(data, cmd_run)\u001b[0m\n\u001b[1;32m     22\u001b[0m default_config \u001b[38;5;241m=\u001b[39m os\u001b[38;5;241m.\u001b[39mpath\u001b[38;5;241m.\u001b[39mjoin(os\u001b[38;5;241m.\u001b[39mpath\u001b[38;5;241m.\u001b[39mdirname(os\u001b[38;5;241m.\u001b[39mpath\u001b[38;5;241m.\u001b[39mabspath(\u001b[38;5;18m__file__\u001b[39m)), \u001b[38;5;124m'\u001b[39m\u001b[38;5;124mui_scripts/data/autodl_webui\u001b[39m\u001b[38;5;124m'\u001b[39m, \u001b[38;5;124m'\u001b[39m\u001b[38;5;124mdefault_config.json\u001b[39m\u001b[38;5;124m'\u001b[39m)  \u001b[38;5;66;03m# 获取默认配置路径\u001b[39;00m\n\u001b[1;32m     23\u001b[0m \u001b[38;5;66;03m# uiConfig = JsonConfigManager(data['config_file'], default_config, debug=data['debug'])  # 配置链\u001b[39;00m\n\u001b[0;32m---> 25\u001b[0m env_path \u001b[38;5;241m=\u001b[39m \u001b[43muiConfig\u001b[49m\u001b[38;5;241m.\u001b[39mget_run_config_index_item(\u001b[38;5;124m\"\u001b[39m\u001b[38;5;124menv_path\u001b[39m\u001b[38;5;124m\"\u001b[39m)\n\u001b[1;32m     26\u001b[0m \u001b[38;5;28;01mif\u001b[39;00m env_path \u001b[38;5;241m!=\u001b[39m \u001b[38;5;124m\"\u001b[39m\u001b[38;5;124m\"\u001b[39m:\n\u001b[1;32m     27\u001b[0m     os\u001b[38;5;241m.\u001b[39menviron[\u001b[38;5;124m\"\u001b[39m\u001b[38;5;124mPATH\u001b[39m\u001b[38;5;124m\"\u001b[39m] \u001b[38;5;241m=\u001b[39m env_path \u001b[38;5;241m+\u001b[39m os\u001b[38;5;241m.\u001b[39menviron[\u001b[38;5;124m\"\u001b[39m\u001b[38;5;124mPATH\u001b[39m\u001b[38;5;124m\"\u001b[39m]\n",
      "\u001b[0;31mNameError\u001b[0m: name 'uiConfig' is not defined"
     ]
    }
   ],
   "source": [
    "import Main\n",
    "\n",
    "def cmd_run(command):\n",
    "    !{command}\n",
    "\n",
    "Main.show(cmd_run)"
   ]
  },
  {
   "cell_type": "code",
   "execution_count": null,
   "id": "c92eaea6-7e14-4443-b051-b2f4ff9d2983",
   "metadata": {},
   "outputs": [],
   "source": []
  }
 ],
 "metadata": {
  "kernelspec": {
   "display_name": "Python 3 (ipykernel)",
   "language": "python",
   "name": "python3"
  },
  "language_info": {
   "codemirror_mode": {
    "name": "ipython",
    "version": 3
   },
   "file_extension": ".py",
   "mimetype": "text/x-python",
   "name": "python",
   "nbconvert_exporter": "python",
   "pygments_lexer": "ipython3",
   "version": "3.9.2"
  }
 },
 "nbformat": 4,
 "nbformat_minor": 5
}
